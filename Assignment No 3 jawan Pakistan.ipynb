{
 "cells": [
  {
   "cell_type": "code",
   "execution_count": 7,
   "id": "a33c8326",
   "metadata": {},
   "outputs": [
    {
     "name": "stdout",
     "output_type": "stream",
     "text": [
      "Twinkle, twinkle, little star, \n",
      "\tHow I wonder what you are! \n",
      "\t\tUp above the world so high, \n",
      "\t\tLike a diamond in the sky. \n",
      "Twinkle, twinkle, little star, \n",
      "\tHow I wonder what you are!\n"
     ]
    }
   ],
   "source": [
    "'''Question No 1:\n",
    "Write a Python program to print the following string in a specific format (see the output).'''\n",
    "\n",
    "print(\"Twinkle, twinkle, little star, \\n\\tHow I wonder what you are! \\n\\t\\tUp above the world so high, \\n\\t\\tLike a diamond in the sky. \\nTwinkle, twinkle, little star, \\n\\tHow I wonder what you are!\");"
   ]
  },
  {
   "cell_type": "code",
   "execution_count": 8,
   "id": "a04fbd4d",
   "metadata": {},
   "outputs": [
    {
     "name": "stdout",
     "output_type": "stream",
     "text": [
      "3.8.8 (default, Apr 13 2021, 15:08:03) [MSC v.1916 64 bit (AMD64)]\n"
     ]
    }
   ],
   "source": [
    "'''Question No 2:\n",
    "Write a Python program to get the Python version you are using'''\n",
    "\n",
    "import sys ;\n",
    "print(sys.version);"
   ]
  },
  {
   "cell_type": "code",
   "execution_count": 9,
   "id": "6e5f68d8",
   "metadata": {},
   "outputs": [
    {
     "name": "stdout",
     "output_type": "stream",
     "text": [
      "Current date and time : \n",
      "2021-10-29 00:03:59\n"
     ]
    }
   ],
   "source": [
    "'''Question No 3:\n",
    "Write a Python program to display the current date and time.'''\n",
    "\n",
    "import datetime ;\n",
    "now = datetime.datetime.now() ;\n",
    "print (\"Current date and time : \") ;\n",
    "print (now.strftime(\"%Y-%m-%d %H:%M:%S\")) ;"
   ]
  },
  {
   "cell_type": "code",
   "execution_count": 10,
   "id": "83e9ade5",
   "metadata": {},
   "outputs": [
    {
     "name": "stdout",
     "output_type": "stream",
     "text": [
      "Input the radius of the circle : 1.5\n",
      "The area of the circle with radius 1.5 is: 7.0685834705770345\n"
     ]
    }
   ],
   "source": [
    "'''Question No 4:\n",
    "Write a Python program which accepts the radius of a circle from the user and compute the area.'''\n",
    "\n",
    "from math import pi ;\n",
    "radius = float(input (\"Input the radius of the circle : \")) ;\n",
    "print (\"The area of the circle with radius \" + str(radius) + \" is: \" + str(pi * radius**2)) ;"
   ]
  },
  {
   "cell_type": "code",
   "execution_count": 11,
   "id": "1c828e49",
   "metadata": {},
   "outputs": [
    {
     "name": "stdout",
     "output_type": "stream",
     "text": [
      "Enter your First Name : Ahsan\n",
      "ENter your Last Name : Shah\n",
      "Shah Ahsan\n"
     ]
    }
   ],
   "source": [
    "'''Question No 5:\n",
    "Write a Python program which accepts the user's first and last name and print them in reverse order with a space between them'''\n",
    "\n",
    "first_name = input(\"Enter your First Name : \") ;\n",
    "last_name = input(\"ENter your Last Name : \") ;\n",
    "print (last_name + \" \" + first_name) ;"
   ]
  },
  {
   "cell_type": "code",
   "execution_count": 22,
   "id": "d9fc9548",
   "metadata": {},
   "outputs": [
    {
     "name": "stdout",
     "output_type": "stream",
     "text": [
      "Enter first number: 11\n",
      "Enter second number: 12\n",
      "Addition :  23\n"
     ]
    }
   ],
   "source": [
    "'''Question No 6:\n",
    "Write a python program which takes two inputs from user and print them addition.'''\n",
    "\n",
    "frst_num = int(input(\"Enter first number: \")) ;\n",
    "scnd_num = int(input(\"Enter second number: \")) ;\n",
    "sum = frst_num + scnd_num ;\n",
    "print(\"Addition : \", sum) ;"
   ]
  },
  {
   "cell_type": "code",
   "execution_count": 14,
   "id": "fe5adb73",
   "metadata": {},
   "outputs": [
    {
     "name": "stdout",
     "output_type": "stream",
     "text": [
      "Enter marks of first subject: 99\n",
      "Enter marks of second subject: 98\n",
      "Enter marks of third subject: 97\n",
      "Enter marks of forth subject: 96\n",
      "Enter marks of fifth subject: 95\n",
      "Obtained Marks :  485\n",
      "Your Grade is A+\n"
     ]
    }
   ],
   "source": [
    "'''Question No 7:\n",
    "Write a program which takes 5 inputs from user for different subject’s marks, total it and generate mark sheet using grades ?'''\n",
    "\n",
    "first_sub = int(input(\"Enter marks of first subject: \")) ;\n",
    "second_sub = int(input(\"Enter marks of second subject: \")) ;\n",
    "third_sub = int(input(\"Enter marks of third subject: \")) ;\n",
    "forth_sub = int(input(\"Enter marks of forth subject: \")) ;\n",
    "fifth_sub = int(input(\"Enter marks of fifth subject: \")) ;\n",
    "\n",
    "total_marks = 500 ;\n",
    "obtained_marks = first_sub + second_sub + third_sub + forth_sub + fifth_sub ;\n",
    "average = (obtained_marks/total_marks)*100 ;\n",
    "print (\"Obtained Marks : \" , obtained_marks ) ;\n",
    "\n",
    "\n",
    "if average>80 and average<=100:\n",
    "    print(\"Your Grade is A+\") ;\n",
    "elif average>70 and average<=80:\n",
    "    print(\"Your Grade is A\") ;\n",
    "elif average>60 and average<=70:\n",
    "    print(\"Your Grade is B\") ;\n",
    "elif average>50 and average<=60:\n",
    "    print(\"Your Grade is C\") ;\n",
    "elif average>40 and average<=50:\n",
    "    print(\"Your Grade is D\") ;\n",
    "elif average>33 and average<=40:\n",
    "    print(\"Your Grade is E\") ;\n",
    "elif average>=0 and average<33:\n",
    "    print(\"Your Grade is F\") ;\n",
    "else:\n",
    "    print(\"Invalid Input!\") ;\n"
   ]
  },
  {
   "cell_type": "code",
   "execution_count": 15,
   "id": "7909ebb8",
   "metadata": {},
   "outputs": [
    {
     "name": "stdout",
     "output_type": "stream",
     "text": [
      "Enter a number : 5\n",
      "Number is odd\n"
     ]
    }
   ],
   "source": [
    "'''Question No 8:\n",
    "Write a program which take input from user and identify that the given number is even or odd?'''\n",
    "\n",
    "Number = int(input(\"Enter a number : \")) ;\n",
    "if Number%2==0 :\n",
    "    print(\"Number is even\") ;\n",
    "else:\n",
    "    print(\"Number is odd\") ;"
   ]
  },
  {
   "cell_type": "code",
   "execution_count": 17,
   "id": "09f6fbe3",
   "metadata": {},
   "outputs": [
    {
     "name": "stdout",
     "output_type": "stream",
     "text": [
      "The lenght of the list  [11, 9, 1, 4, 5, 21, 78] :  7\n"
     ]
    }
   ],
   "source": [
    "'''Question No 9:\n",
    "Write a program which print the length of the list?'''\n",
    "\n",
    "list = [11 , 9, 1, 4, 5, 21, 78] ;\n",
    "print (\"The lenght of the list \" ,list, \": \" , len(list) ) ;"
   ]
  },
  {
   "cell_type": "code",
   "execution_count": 29,
   "id": "dbaaf2d9",
   "metadata": {},
   "outputs": [
    {
     "name": "stdout",
     "output_type": "stream",
     "text": [
      "-5\n"
     ]
    }
   ],
   "source": [
    "'''Question No 10:\n",
    "Write a Python program to sum all the numeric items in a list?'''\n",
    "\n",
    "def sum_list(items):\n",
    "    sum_numbers = 0\n",
    "    for x in items:\n",
    "        sum_numbers += x\n",
    "    return sum_numbers\n",
    "print(sum_list([1,2,-8]))"
   ]
  },
  {
   "cell_type": "code",
   "execution_count": 24,
   "id": "ecf88253",
   "metadata": {},
   "outputs": [
    {
     "name": "stdout",
     "output_type": "stream",
     "text": [
      "101\n"
     ]
    }
   ],
   "source": [
    "'''Question No 11:\n",
    "Write a Python program to get the largest number from a numeric list.'''\n",
    "\n",
    "list = [41, 101, 29, 57] ;\n",
    "print(max(list)) ;"
   ]
  },
  {
   "cell_type": "code",
   "execution_count": 20,
   "id": "da87dd69",
   "metadata": {},
   "outputs": [
    {
     "name": "stdout",
     "output_type": "stream",
     "text": [
      "1\n",
      "1\n",
      "2\n",
      "3\n"
     ]
    }
   ],
   "source": [
    "'''Question No 12:\n",
    "Take a list, say for example this one:\n",
    "a = [1, 1, 2, 3, 5, 8, 13, 21, 34, 55, 89]\n",
    "Write a program that prints out all the elements of the list that are less than 5.'''\n",
    "\n",
    "a = [1, 1, 2, 3, 5, 8, 13, 21, 34, 55, 89] ;\n",
    "for i in a:\n",
    "    if i < 5:\n",
    "        print(i) ;"
   ]
  },
  {
   "cell_type": "code",
   "execution_count": null,
   "id": "c0b0e2b8",
   "metadata": {},
   "outputs": [],
   "source": []
  }
 ],
 "metadata": {
  "kernelspec": {
   "display_name": "Python 3",
   "language": "python",
   "name": "python3"
  },
  "language_info": {
   "codemirror_mode": {
    "name": "ipython",
    "version": 3
   },
   "file_extension": ".py",
   "mimetype": "text/x-python",
   "name": "python",
   "nbconvert_exporter": "python",
   "pygments_lexer": "ipython3",
   "version": "3.8.8"
  }
 },
 "nbformat": 4,
 "nbformat_minor": 5
}
